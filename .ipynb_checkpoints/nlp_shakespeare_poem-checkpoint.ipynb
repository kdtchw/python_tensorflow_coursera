{
 "cells": [
  {
   "cell_type": "code",
   "execution_count": 1,
   "metadata": {},
   "outputs": [
    {
     "name": "stderr",
     "output_type": "stream",
     "text": [
      "--2021-01-12 17:34:30--  https://storage.googleapis.com/laurencemoroney-blog.appspot.com/sonnets.txt\n",
      "Resolving storage.googleapis.com (storage.googleapis.com)... 142.250.199.80, 172.217.24.208, 216.58.220.208, ...\n",
      "Connecting to storage.googleapis.com (storage.googleapis.com)|142.250.199.80|:443... connected.\n",
      "HTTP request sent, awaiting response... 200 OK\n",
      "Length: 93578 (91K) [text/plain]\n",
      "Saving to: './dataset/nlp_sonnets.txt'\n",
      "\n",
      "     0K .......... .......... .......... .......... .......... 54% 1.30M 0s\n",
      "    50K .......... .......... .......... .......... .         100% 2.43M=0.05s\n",
      "\n",
      "2021-01-12 17:34:31 (1.64 MB/s) - './dataset/nlp_sonnets.txt' saved [93578/93578]\n",
      "\n"
     ]
    }
   ],
   "source": [
    "!wget --no-check-certificate \\\n",
    "    https://storage.googleapis.com/laurencemoroney-blog.appspot.com/sonnets.txt \\\n",
    "    -O ./dataset/nlp_sonnets.txt"
   ]
  },
  {
   "cell_type": "code",
   "execution_count": 2,
   "metadata": {},
   "outputs": [],
   "source": [
    "import numpy as np\n",
    "import tensorflow as tf\n",
    "\n",
    "from tensorflow.keras.preprocessing.sequence import pad_sequences\n",
    "from tensorflow.keras.preprocessing.text import Tokenizer\n",
    "from tensorflow.keras.models import Sequential"
   ]
  },
  {
   "cell_type": "code",
   "execution_count": 3,
   "metadata": {},
   "outputs": [],
   "source": [
    "data = open(\"./dataset/nlp_sonnets.txt\").read()\n",
    "\n",
    "corpus = data.lower().split(\"\\n\")\n",
    "\n",
    "tokenizer = Tokenizer()\n",
    "tokenizer.fit_on_texts(corpus)\n",
    "total_words = len(tokenizer.word_index) + 1\n",
    "\n",
    "# create input sequences using list of tokens\n",
    "input_sequences = []\n",
    "for line in corpus:\n",
    "    token_list = tokenizer.texts_to_sequences([line])[0]\n",
    "    for i in range(1, len(token_list)):\n",
    "        n_gram_sequence = token_list[:i+1]\n",
    "        input_sequences.append(n_gram_sequence)\n",
    "\n",
    "# pad sequences \n",
    "max_sequence_len = max([len(x) for x in input_sequences])\n",
    "input_sequences = np.array(pad_sequences(input_sequences, maxlen=max_sequence_len, padding=\"pre\"))\n",
    "\n",
    "# create predictors and label\n",
    "predictors, label = input_sequences[:,:-1], input_sequences[:,-1]\n",
    "\n",
    "label = tf.keras.utils.to_categorical(label, num_classes=total_words)"
   ]
  },
  {
   "cell_type": "code",
   "execution_count": 4,
   "metadata": {},
   "outputs": [
    {
     "name": "stdout",
     "output_type": "stream",
     "text": [
      "Model: \"sequential\"\n",
      "_________________________________________________________________\n",
      "Layer (type)                 Output Shape              Param #   \n",
      "=================================================================\n",
      "embedding (Embedding)        (None, 10, 100)           321100    \n",
      "_________________________________________________________________\n",
      "bidirectional (Bidirectional (None, 10, 300)           301200    \n",
      "_________________________________________________________________\n",
      "dropout (Dropout)            (None, 10, 300)           0         \n",
      "_________________________________________________________________\n",
      "lstm_1 (LSTM)                (None, 100)               160400    \n",
      "_________________________________________________________________\n",
      "dense (Dense)                (None, 1605)              162105    \n",
      "_________________________________________________________________\n",
      "dense_1 (Dense)              (None, 3211)              5156866   \n",
      "=================================================================\n",
      "Total params: 6,101,671\n",
      "Trainable params: 6,101,671\n",
      "Non-trainable params: 0\n",
      "_________________________________________________________________\n"
     ]
    }
   ],
   "source": [
    "from tensorflow.keras.layers import Embedding, LSTM, Dense, Dropout, Bidirectional\n",
    "from tensorflow.keras.models import Sequential\n",
    "from tensorflow.keras import regularizers\n",
    "\n",
    "model = Sequential()\n",
    "model.add(Embedding(total_words, 100, input_length=max_sequence_len-1))\n",
    "model.add(Bidirectional(LSTM(150, return_sequences = True)))\n",
    "model.add(Dropout(0.2))\n",
    "model.add(LSTM(100))\n",
    "model.add(Dense(total_words/2, activation=\"relu\", kernel_regularizer=regularizers.l2(0.01)))\n",
    "model.add(Dense(total_words, activation=\"softmax\"))\n",
    "\n",
    "model.compile(loss=\"categorical_crossentropy\", optimizer=\"adam\", metrics=[\"accuracy\"])\n",
    "\n",
    "model.summary()"
   ]
  },
  {
   "cell_type": "code",
   "execution_count": 5,
   "metadata": {},
   "outputs": [
    {
     "name": "stdout",
     "output_type": "stream",
     "text": [
      "Epoch 1/100\n",
      "484/484 [==============================] - 45s 92ms/step - loss: 6.9064 - accuracy: 0.0215\n",
      "Epoch 2/100\n",
      "484/484 [==============================] - 38s 79ms/step - loss: 6.4974 - accuracy: 0.0227\n",
      "Epoch 3/100\n",
      "484/484 [==============================] - 42s 86ms/step - loss: 6.3948 - accuracy: 0.0250\n",
      "Epoch 4/100\n",
      "484/484 [==============================] - 42s 88ms/step - loss: 6.2624 - accuracy: 0.0290\n",
      "Epoch 5/100\n",
      "484/484 [==============================] - 41s 86ms/step - loss: 6.1712 - accuracy: 0.0351\n",
      "Epoch 6/100\n",
      "484/484 [==============================] - 39s 82ms/step - loss: 6.0890 - accuracy: 0.0377\n",
      "Epoch 7/100\n",
      "484/484 [==============================] - 39s 81ms/step - loss: 6.0173 - accuracy: 0.0411\n",
      "Epoch 8/100\n",
      "484/484 [==============================] - 41s 85ms/step - loss: 5.9353 - accuracy: 0.0450\n",
      "Epoch 9/100\n",
      "484/484 [==============================] - 42s 86ms/step - loss: 5.8368 - accuracy: 0.0527\n",
      "Epoch 10/100\n",
      "484/484 [==============================] - 41s 84ms/step - loss: 5.7317 - accuracy: 0.0581\n",
      "Epoch 11/100\n",
      "484/484 [==============================] - 42s 87ms/step - loss: 5.6214 - accuracy: 0.0647\n",
      "Epoch 12/100\n",
      "484/484 [==============================] - 44s 92ms/step - loss: 5.5201 - accuracy: 0.0672\n",
      "Epoch 13/100\n",
      "484/484 [==============================] - 41s 84ms/step - loss: 5.4088 - accuracy: 0.07670s - loss: 5.4084 - accu\n",
      "Epoch 14/100\n",
      "484/484 [==============================] - 41s 86ms/step - loss: 5.3001 - accuracy: 0.0832\n",
      "Epoch 15/100\n",
      "484/484 [==============================] - 43s 88ms/step - loss: 5.1977 - accuracy: 0.0895\n",
      "Epoch 16/100\n",
      "484/484 [==============================] - 42s 86ms/step - loss: 5.0949 - accuracy: 0.09650s - loss: 5.0964 \n",
      "Epoch 17/100\n",
      "484/484 [==============================] - 42s 87ms/step - loss: 4.9982 - accuracy: 0.1031\n",
      "Epoch 18/100\n",
      "484/484 [==============================] - 42s 87ms/step - loss: 4.8972 - accuracy: 0.1092\n",
      "Epoch 19/100\n",
      "484/484 [==============================] - 41s 85ms/step - loss: 4.8020 - accuracy: 0.1206\n",
      "Epoch 20/100\n",
      "484/484 [==============================] - 42s 87ms/step - loss: 4.7110 - accuracy: 0.13042s - loss: 4.7017  - ETA: 1s - loss: 4.7030 - accuracy: 0.\n",
      "Epoch 21/100\n",
      "484/484 [==============================] - 42s 87ms/step - loss: 4.6100 - accuracy: 0.1408\n",
      "Epoch 22/100\n",
      "484/484 [==============================] - 41s 84ms/step - loss: 4.5135 - accuracy: 0.1475\n",
      "Epoch 23/100\n",
      "484/484 [==============================] - 41s 84ms/step - loss: 4.4172 - accuracy: 0.1570\n",
      "Epoch 24/100\n",
      "484/484 [==============================] - 41s 84ms/step - loss: 4.3130 - accuracy: 0.17010s - loss: 4\n",
      "Epoch 25/100\n",
      "484/484 [==============================] - 42s 86ms/step - loss: 4.2160 - accuracy: 0.1823\n",
      "Epoch 26/100\n",
      "484/484 [==============================] - 43s 89ms/step - loss: 4.1124 - accuracy: 0.1981\n",
      "Epoch 27/100\n",
      "484/484 [==============================] - 43s 88ms/step - loss: 4.0140 - accuracy: 0.2114\n",
      "Epoch 28/100\n",
      "484/484 [==============================] - 43s 88ms/step - loss: 3.9138 - accuracy: 0.2284\n",
      "Epoch 29/100\n",
      "484/484 [==============================] - 43s 90ms/step - loss: 3.8250 - accuracy: 0.2387\n",
      "Epoch 30/100\n",
      "484/484 [==============================] - 43s 88ms/step - loss: 3.7271 - accuracy: 0.2604\n",
      "Epoch 31/100\n",
      "484/484 [==============================] - 42s 87ms/step - loss: 3.6284 - accuracy: 0.27980s - loss: 3\n",
      "Epoch 32/100\n",
      "484/484 [==============================] - 1841s 4s/step - loss: 3.5377 - accuracy: 0.2941\n",
      "Epoch 33/100\n",
      "484/484 [==============================] - 36s 74ms/step - loss: 3.4477 - accuracy: 0.3166\n",
      "Epoch 34/100\n",
      "484/484 [==============================] - 35s 72ms/step - loss: 3.3663 - accuracy: 0.3353\n",
      "Epoch 35/100\n",
      "484/484 [==============================] - 36s 74ms/step - loss: 2.9669 - accuracy: 0.42450s - loss: 2.9\n",
      "Epoch 40/100\n",
      "484/484 [==============================] - 33s 68ms/step - loss: 2.9056 - accuracy: 0.4387\n",
      "Epoch 41/100\n",
      "484/484 [==============================] - 38s 79ms/step - loss: 2.8382 - accuracy: 0.4527\n",
      "Epoch 42/100\n",
      "484/484 [==============================] - 35s 73ms/step - loss: 2.6539 - accuracy: 0.4950\n",
      "Epoch 45/100\n",
      "484/484 [==============================] - 36s 74ms/step - loss: 2.5956 - accuracy: 0.5093\n",
      "Epoch 46/100\n",
      "484/484 [==============================] - 36s 73ms/step - loss: 2.5368 - accuracy: 0.5183\n",
      "Epoch 47/100\n",
      "484/484 [==============================] - 35s 73ms/step - loss: 2.3827 - accuracy: 0.5554\n",
      "Epoch 50/100\n",
      "484/484 [==============================] - 37s 76ms/step - loss: 2.3314 - accuracy: 0.5689\n",
      "Epoch 51/100\n",
      "484/484 [==============================] - 35s 73ms/step - loss: 2.2789 - accuracy: 0.5787\n",
      "Epoch 52/100\n",
      "484/484 [==============================] - 34s 71ms/step - loss: 2.0254 - accuracy: 0.6330\n",
      "Epoch 58/100\n",
      "484/484 [==============================] - 164s 338ms/step - loss: 2.0014 - accuracy: 0.6393\n",
      "Epoch 59/100\n",
      "484/484 [==============================] - 52s 107ms/step - loss: 1.9693 - accuracy: 0.6451\n",
      "Epoch 60/100\n",
      "484/484 [==============================] - 35s 72ms/step - loss: 1.9257 - accuracy: 0.6586\n",
      "Epoch 61/100\n",
      "484/484 [==============================] - 34s 71ms/step - loss: 1.8947 - accuracy: 0.6627\n",
      "Epoch 62/100\n",
      "484/484 [==============================] - 36s 74ms/step - loss: 1.8611 - accuracy: 0.6750\n",
      "Epoch 63/100\n",
      "484/484 [==============================] - 43s 88ms/step - loss: 1.8299 - accuracy: 0.6734\n",
      "Epoch 64/100\n",
      "484/484 [==============================] - 52s 107ms/step - loss: 1.7978 - accuracy: 0.6874\n",
      "Epoch 65/100\n",
      "484/484 [==============================] - 51s 105ms/step - loss: 1.7739 - accuracy: 0.6850\n",
      "Epoch 66/100\n",
      "484/484 [==============================] - 51s 105ms/step - loss: 1.7508 - accuracy: 0.6916\n",
      "Epoch 67/100\n",
      "484/484 [==============================] - 51s 105ms/step - loss: 1.7286 - accuracy: 0.6969\n",
      "Epoch 68/100\n",
      "484/484 [==============================] - 93s 192ms/step - loss: 1.6933 - accuracy: 0.7052\n",
      "Epoch 69/100\n",
      "484/484 [==============================] - 439s 907ms/step - loss: 1.6714 - accuracy: 0.7057\n",
      "Epoch 70/100\n",
      "484/484 [==============================] - 35s 72ms/step - loss: 1.6395 - accuracy: 0.7167\n",
      "Epoch 71/100\n",
      "484/484 [==============================] - 34s 70ms/step - loss: 1.6381 - accuracy: 0.7151\n",
      "Epoch 72/100\n",
      "484/484 [==============================] - 35s 72ms/step - loss: 1.5937 - accuracy: 0.7223\n",
      "Epoch 73/100\n",
      "484/484 [==============================] - 36s 74ms/step - loss: 1.5772 - accuracy: 0.7228\n",
      "Epoch 74/100\n",
      "484/484 [==============================] - 35s 73ms/step - loss: 1.5586 - accuracy: 0.7304\n",
      "Epoch 75/100\n",
      "484/484 [==============================] - 36s 74ms/step - loss: 1.5359 - accuracy: 0.7326\n",
      "Epoch 76/100\n",
      "484/484 [==============================] - 35s 72ms/step - loss: 1.5080 - accuracy: 0.7403\n",
      "Epoch 77/100\n",
      "484/484 [==============================] - 35s 72ms/step - loss: 1.5001 - accuracy: 0.7387\n",
      "Epoch 78/100\n",
      "484/484 [==============================] - 34s 70ms/step - loss: 1.4777 - accuracy: 0.7446\n",
      "Epoch 79/100\n",
      "484/484 [==============================] - 35s 72ms/step - loss: 1.4522 - accuracy: 0.7506\n",
      "Epoch 80/100\n",
      "484/484 [==============================] - 35s 72ms/step - loss: 1.4361 - accuracy: 0.7519\n",
      "Epoch 81/100\n",
      "484/484 [==============================] - 35s 72ms/step - loss: 1.4241 - accuracy: 0.7533\n",
      "Epoch 82/100\n",
      "484/484 [==============================] - 35s 72ms/step - loss: 1.4012 - accuracy: 0.7587\n",
      "Epoch 83/100\n",
      "484/484 [==============================] - 34s 70ms/step - loss: 1.4017 - accuracy: 0.7570\n",
      "Epoch 84/100\n",
      "484/484 [==============================] - 35s 73ms/step - loss: 1.3682 - accuracy: 0.7628\n",
      "Epoch 85/100\n",
      "484/484 [==============================] - 33s 69ms/step - loss: 1.3559 - accuracy: 0.7659\n",
      "Epoch 86/100\n",
      "484/484 [==============================] - 34s 71ms/step - loss: 1.3343 - accuracy: 0.7701\n",
      "Epoch 87/100\n",
      "484/484 [==============================] - 34s 70ms/step - loss: 1.3156 - accuracy: 0.7742\n",
      "Epoch 88/100\n",
      "484/484 [==============================] - 33s 67ms/step - loss: 1.3323 - accuracy: 0.7675\n",
      "Epoch 89/100\n",
      "484/484 [==============================] - 32s 66ms/step - loss: 1.3023 - accuracy: 0.7739\n",
      "Epoch 90/100\n",
      "484/484 [==============================] - 31s 64ms/step - loss: 1.2843 - accuracy: 0.7775\n",
      "Epoch 91/100\n"
     ]
    },
    {
     "name": "stdout",
     "output_type": "stream",
     "text": [
      "484/484 [==============================] - 31s 65ms/step - loss: 1.2740 - accuracy: 0.7806\n",
      "Epoch 92/100\n",
      "484/484 [==============================] - 31s 64ms/step - loss: 1.2608 - accuracy: 0.7813\n",
      "Epoch 93/100\n",
      "484/484 [==============================] - 33s 69ms/step - loss: 1.2354 - accuracy: 0.7861\n",
      "Epoch 94/100\n",
      "484/484 [==============================] - 34s 71ms/step - loss: 1.2428 - accuracy: 0.7842\n",
      "Epoch 95/100\n",
      "484/484 [==============================] - 36s 74ms/step - loss: 1.2332 - accuracy: 0.7877\n",
      "Epoch 96/100\n",
      "484/484 [==============================] - 33s 69ms/step - loss: 1.2173 - accuracy: 0.7871\n",
      "Epoch 97/100\n",
      "484/484 [==============================] - 33s 69ms/step - loss: 1.2130 - accuracy: 0.7873\n",
      "Epoch 98/100\n",
      "484/484 [==============================] - 33s 69ms/step - loss: 1.2055 - accuracy: 0.7910\n",
      "Epoch 99/100\n",
      "484/484 [==============================] - 35s 72ms/step - loss: 1.1770 - accuracy: 0.7954\n",
      "Epoch 100/100\n",
      "484/484 [==============================] - 35s 72ms/step - loss: 1.1858 - accuracy: 0.7921\n"
     ]
    }
   ],
   "source": [
    "history = model.fit(predictors, label, epochs=100, verbose=1)"
   ]
  },
  {
   "cell_type": "code",
   "execution_count": 8,
   "metadata": {},
   "outputs": [
    {
     "name": "stdout",
     "output_type": "stream",
     "text": [
      "WARNING:tensorflow:From C:\\Users\\paulw\\anaconda3\\lib\\site-packages\\tensorflow\\python\\training\\tracking\\tracking.py:111: Model.state_updates (from tensorflow.python.keras.engine.training) is deprecated and will be removed in a future version.\n",
      "Instructions for updating:\n",
      "This property should not be used in TensorFlow 2.0, as updates are applied automatically.\n",
      "WARNING:tensorflow:From C:\\Users\\paulw\\anaconda3\\lib\\site-packages\\tensorflow\\python\\training\\tracking\\tracking.py:111: Layer.updates (from tensorflow.python.keras.engine.base_layer) is deprecated and will be removed in a future version.\n",
      "Instructions for updating:\n",
      "This property should not be used in TensorFlow 2.0, as updates are applied automatically.\n",
      "INFO:tensorflow:Assets written to: ./trained_model/shakespeare_poem\\assets\n"
     ]
    }
   ],
   "source": [
    "model.save(\"./trained_model/shakespeare_poem\")"
   ]
  },
  {
   "cell_type": "code",
   "execution_count": 6,
   "metadata": {},
   "outputs": [
    {
     "data": {
      "image/png": "[encoded data removed]",
      "text/plain": [
       "<Figure size 432x288 with 1 Axes>"
      ]
     },
     "metadata": {
      "needs_background": "light"
     },
     "output_type": "display_data"
    },
    {
     "data": {
      "image/png": "[encoded data removed]",
      "text/plain": [
       "<Figure size 432x288 with 1 Axes>"
      ]
     },
     "metadata": {
      "needs_background": "light"
     },
     "output_type": "display_data"
    }
   ],
   "source": [
    "import matplotlib.pyplot as plt\n",
    "acc = history.history[\"accuracy\"]\n",
    "loss = history.history[\"loss\"]\n",
    "\n",
    "epochs = range(len(acc))\n",
    "\n",
    "plt.plot(epochs, acc, \"b\", label=\"Training accuracy\")\n",
    "plt.title(\"Training accuracy\")\n",
    "\n",
    "plt.figure()\n",
    "\n",
    "plt.plot(epochs, loss, \"b\", label=\"Training Loss\")\n",
    "plt.title(\"Training loss\")\n",
    "plt.legend()\n",
    "\n",
    "plt.show()"
   ]
  },
  {
   "cell_type": "code",
   "execution_count": 10,
   "metadata": {},
   "outputs": [
    {
     "name": "stdout",
     "output_type": "stream",
     "text": [
      "Help me Obi Wan Kenobi, you're my only hope the world hath have broken die give nought bearing men happy dear state ' days shines men forth done be seen words say such due alone have thee thee doth catch me bright she live did lend ill ' and young alone forth thee with these matter under care there dark sad fuel gems been decease worse did strive to thee still live so ' knowing state doth honour shown clears live bred there affords brought to find thee praise so due still thee bright quite bold belied of foes done strive her best live so remain new ' and\n"
     ]
    }
   ],
   "source": [
    "seed_text = \"Help me Obi Wan Kenobi, you're my only hope\"\n",
    "next_words = 100\n",
    "  \n",
    "for _ in range(next_words):\n",
    "    token_list = tokenizer.texts_to_sequences([seed_text])[0]\n",
    "    token_list = pad_sequences([token_list], maxlen=max_sequence_len-1, padding=\"pre\")\n",
    "    predicted = model.predict_classes(token_list, verbose=0)\n",
    "    output_word = \"\"\n",
    "    for word, index in tokenizer.word_index.items():\n",
    "        if index == predicted:\n",
    "            output_word = word\n",
    "            break\n",
    "    seed_text += \" \" + output_word\n",
    "print(seed_text)"
   ]
  },
  {
   "cell_type": "code",
   "execution_count": null,
   "metadata": {},
   "outputs": [],
   "source": []
  }
 ],
 "metadata": {
  "kernelspec": {
   "display_name": "Python 3",
   "language": "python",
   "name": "python3"
  },
  "language_info": {
   "codemirror_mode": {
    "name": "ipython",
    "version": 3
   },
   "file_extension": ".py",
   "mimetype": "text/x-python",
   "name": "python",
   "nbconvert_exporter": "python",
   "pygments_lexer": "ipython3",
   "version": "3.8.3"
  }
 },
 "nbformat": 4,
 "nbformat_minor": 4
}
